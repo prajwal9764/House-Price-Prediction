{
 "cells": [
  {
   "cell_type": "markdown",
   "metadata": {
    "_cell_guid": "a80c6e1b-d07c-5911-facc-caaa3ce97b1e",
    "_uuid": "09ac1831746a7dcf98b08532b2a00962d265430f"
   },
   "source": [
    "**Import libraries**\n",
    "===================="
   ]
  },
  {
   "cell_type": "code",
   "execution_count": null,
   "metadata": {
    "_cell_guid": "82a4b19f-e192-f905-0337-e47d9e497901",
    "_uuid": "277f3830a247e5741164a27f967018b16e6fd3c1",
    "collapsed": true
   },
   "outputs": [],
   "source": [
    "import pandas as pd\n",
    "import numpy as np\n",
    "\n",
    "import matplotlib.pyplot as plt\n",
    "% matplotlib inline\n",
    "import seaborn as sns\n",
    "sns.set(style=\"whitegrid\", color_codes=True)\n",
    "sns.set(font_scale=1)"
   ]
  },
  {
   
   "cell_type": "markdown",
   "metadata": {
    "_cell_guid": "868fd0ec-93e8-2475-68a5-958215551295",
    "_uuid": "b71b2464bb6625ea4c72a160d90d3327eee6979c"
   },
   "source": [
    "**Load train & test data**\n",
    "===================="
   ]
  },
  {
   "cell_type": "code",
   "execution_count": null,
   "metadata": {
    "_cell_guid": "e970882d-841e-d8ec-7350-0e60cb82c3b1",
    "_uuid": "875ea55dbe99328f10d91bf4ce2d26cad3e17e51",
    "collapsed": true
   },
   "outputs": [],
   "source": [
    "houses=pd.read_csv(\"../input/train.csv\")\n",
    "houses.head()"
   ]
  },
  {
   "cell_type": "code",
   "execution_count": null,
   "metadata": {
    "_cell_guid": "b4a28437-3e15-72dc-674f-a44fee56b3c4",
    "_uuid": "12d77e9a5e8a6afb4ba15660ac8e4d1e8a15813d",
    "collapsed": true
   },
   "outputs": [],
   "source": [
    "houses_test = pd.read_csv(\"../input/test.csv\")\n",
    "#transpose\n",
    "houses_test.head()\n",
    "#note their is no \"SalePrice\" column here which is our target varible."
   ]
  },
  {
   "cell_type": "code",
   "execution_count": null,
   "metadata": {
    "_cell_guid": "b4096670-f549-257f-192e-c93abe1eb82a",
    "_uuid": "b2371cda57c151d3d089763ab98909b3a8104ce6",
    "collapsed": true
   },
   "outputs": [],
   "source": [
    "#shape command will give number of rows/samples/examples and number of columns/features/predictors in dataset\n",
    "#(rows,columns)\n",
    "houses.shape"
   ]
  },
  {
   "cell_type": "markdown",
   "metadata": {
    "_cell_guid": "fdfc9932-44ce-e09f-d82e-b0e5982ef6f9",
    "_uuid": "12db99e2289b021c74f491d4206fd19ee7ace785"
   },
   "source": [
    "There are total **1460 samples** which we can use to train model and **80 features** and **1 target variable.**"
   ]
  },
  {
   "cell_type": "code",
   "execution_count": null,
   "metadata": {
    "_cell_guid": "9e75e90d-1130-1db5-7c5f-5a85049fce74",
    "_uuid": "bb6cdf1638baf9d1cc80243c62615a77c8bb4676",
    "collapsed": true
   },
   "outputs": [],
   "source": [
    "houses_test.shape\n",
    "#1 column less because target variable isn't there in test set!"
   ]
  },
  {
   "cell_type": "markdown",
   "metadata": {
    "_cell_guid": "12182a06-901a-cd5a-f986-5661864d546c",
    "_uuid": "81c46c5ed225c1705569ceec7705a7723a2004f3"
   },
   "source": [
    "*Variable Identification*\n",
    "-----------------------"
   ]
  },
  {
   "cell_type": "code",
   "execution_count": null,
   "metadata": {
    "_cell_guid": "17dad815-c249-4b4d-e542-95a082cc2983",
    "_uuid": "2d8af220e91b4689d3d4dad7c303f57d001e916d",
    "collapsed": true
   },
   "outputs": [],
   "source": [
    "#info method provides information about dataset like \n",
    "#total values in each column, null/not null, datatype, memory occupied etc\n",
    "houses.info()"
   ]
  },
  {
   "cell_type": "code",
   "execution_count": null,
   "metadata": {
    "_cell_guid": "01498707-ed8c-8aa5-4a43-941894415b2d",
    "_uuid": "3cb931d3f22d11c0cf3fe552018a3e9f2b19c178",
    "collapsed": true
   },
   "outputs": [],
   "source": [
    "#How many columns with different datatypes are there?\n",
    "houses.get_dtype_counts()"
   ]
  },
  {
   "cell_type": "code",
   "execution_count": null,
   "metadata": {
    "_cell_guid": "4169c23c-b2a9-0c1a-1513-0be4be3ea9ec",
    "_uuid": "902a2e2810429268caa3e778c6bac79a8738bf1d",
    "collapsed": true
   },
   "outputs": [],
   "source": [
    "##Describe gives statistical information about numerical columns in the dataset\n",
    "houses.describe()"
   ]
  },
  {
   "cell_type": "markdown",
   "metadata": {
    "_cell_guid": "336f8c6d-d698-3379-1bb9-050e9f146017",
    "_uuid": "6a8111ac17fc8c174909a87118bbd141c6f7008f"
   },
   "source": [
    "**Correlation in Data**\n",
    "===================="
   ]
  },
  {
   "cell_type": "code",
   "execution_count": null,
   "metadata": {
    "_cell_guid": "8ee773fc-fe4f-3ee7-d6b4-b4d8ab5762a0",
    "_uuid": "db7009b2bcab4666e507c51bed49a803a5936569",
    "collapsed": true
   },
   "outputs": [],
   "source": [
    "corr=houses.corr()[\"SalePrice\"]\n",
    "corr[np.argsort(corr, axis=0)[::-1]]"
   ]
  },
  {
   "cell_type": "markdown",
   "metadata": {
    "_cell_guid": "c6d6ff08-8ba2-4d4a-9726-3fbba32f1205",
    "_uuid": "9ab9f9c002e5dffffe4d4862e88f0293d25ba901"
   },
   "source": [
    "OverallQual ,GrLivArea ,GarageCars,GarageArea ,TotalBsmtSF, 1stFlrSF     ,FullBath,TotRmsAbvGrd,YearBuilt, YearRemodAdd have more than 0.5 correlation with SalePrice. \n",
    "\n",
    "EnclosedPorch and KitchenAbvGr  have little negative correlation with target variable.\n",
    "\n",
    "These can prove to be important features to predict SalePrice.\n"
   ]
  },
  {
   "cell_type": "code",
   "execution_count": null,
   "metadata": {
    "_cell_guid": "21f6f47f-398b-12be-411a-460c1ae2a715",
    "_uuid": "120bcd63c4e40347c279c195dd3e74608347b9d0",
    "collapsed": true
   },
   "outputs": [],
   "source": [
    "#plotting correlations\n",
    "num_feat=houses.columns[houses.dtypes!=object]\n",
    "num_feat=num_feat[1:-1] \n",
    "labels = []\n",
    "values = []\n",
    "for col in num_feat:\n",
    "    labels.append(col)\n",
    "    values.append(np.corrcoef(houses[col].values, houses.SalePrice.values)[0,1])\n",
    "    \n",
    "ind = np.arange(len(labels))\n",
    "width = 0.9\n",
    "fig, ax = plt.subplots(figsize=(12,40))\n",
    "rects = ax.barh(ind, np.array(values), color='red')\n",
    "ax.set_yticks(ind+((width)/2.))\n",
    "ax.set_yticklabels(labels, rotation='horizontal')\n",
    "ax.set_xlabel(\"Correlation coefficient\")\n",
    "ax.set_title(\"Correlation Coefficients w.r.t Sale Price\");"
   ]
  },
  {
   "cell_type": "code",
   "execution_count": null,
   "metadata": {
    "_cell_guid": "f6429d98-12d7-46f1-e14d-19024b303cd8",
    "_uuid": "838edd8cbc90a012af046258393e6085ebb502e6",
    "collapsed": true
   },
   "outputs": [],
   "source": [
    "correlations=houses.corr()\n",
    "attrs = correlations.iloc[:-1,:-1] # all except target\n",
    "\n",
    "threshold = 0.5\n",
    "important_corrs = (attrs[abs(attrs) > threshold][attrs != 1.0]) \\\n",
    "    .unstack().dropna().to_dict()\n",
    "\n",
    "unique_important_corrs = pd.DataFrame(\n",
    "    list(set([(tuple(sorted(key)), important_corrs[key]) \\\n",
    "    for key in important_corrs])), \n",
    "        columns=['Attribute Pair', 'Correlation'])\n",
    "\n",
    "    # sorted by absolute value\n",
    "unique_important_corrs = unique_important_corrs.ix[\n",
    "    abs(unique_important_corrs['Correlation']).argsort()[::-1]]\n",
    "\n",
    "unique_important_corrs"
   ]
  },
  {
   "cell_type": "markdown",
   "metadata": {
    "_cell_guid": "9694ee3a-a92e-c946-7fec-05f5a2ec600c",
    "_uuid": "ccf6c1f940f19d84aba12ff051e3821c31ab95e2"
   },
   "source": [
    "This shows multicollinearity.\n",
    "In regression, \"multicollinearity\" refers to features that are correlated with other features.  Multicollinearity occurs when your model includes multiple factors that are correlated not just to your target variable, but also to each other.\n",
    "\n",
    "Problem:\n",
    "\n",
    "Multicollinearity increases the standard errors of the coefficients.\n",
    "That means, multicollinearity makes some variables statistically insignificant when they should be significant.\n",
    "\n",
    "To avoid this we can do 3 things:\n",
    "\n",
    "1. Completely remove those variables\n",
    "2. Make new feature by adding them or by some other operation.\n",
    "3. Use PCA, which will reduce feature set to small number of non-collinear features.\n",
    "\n",
    "Reference:http://blog.minitab.com/blog/understanding-statistics/handling-multicollinearity-in-regression-analysis"
   ]
  },
  {
   "cell_type": "markdown",
   "metadata": {
    "_cell_guid": "599eb385-8d31-7fdb-5ca9-801e5f8f2b47",
    "_uuid": "45f8c5b7ec4e0b64b3d1af3c42a2bbda6f33d9cd"
   },
   "source": [
    "**Heatmap**\n",
    "-----------"
   ]
  },
  {
   "cell_type": "code",
   "execution_count": null,
   "metadata": {
    "_cell_guid": "549ae27a-804c-14f8-b4b6-811f09c576ac",
    "_uuid": "ec2c51fb1d093fc6d01f9116745450a43923a178",
    "collapsed": true
   },
   "outputs": [],
   "source": [
    "corrMatrix=houses[[\"SalePrice\",\"OverallQual\",\"GrLivArea\",\"GarageCars\",\n",
    "                  \"GarageArea\",\"GarageYrBlt\",\"TotalBsmtSF\",\"1stFlrSF\",\"FullBath\",\n",
    "                  \"TotRmsAbvGrd\",\"YearBuilt\",\"YearRemodAdd\"]].corr()\n",
    "\n",
    "sns.set(font_scale=1.10)\n",
    "plt.figure(figsize=(10, 10))\n",
    "\n",
    "sns.heatmap(corrMatrix, vmax=.8, linewidths=0.01,\n",
    "            square=True,annot=True,cmap='viridis',linecolor=\"white\")\n",
    "plt.title('Correlation between features');"
   ]
  },
  {
   "cell_type": "markdown",
   "metadata": {
    "_cell_guid": "bec44e1a-abee-71c5-79a7-02e98123b12b",
    "_uuid": "906097dbdbddaceae9d59bea01159518913998d0"
   },
   "source": [
    "As we saw above there are few feature which shows high multicollinearity from heatmap.\n",
    "Lets focus on yellow squares on diagonal line and few on the sides.\n",
    "\n",
    "SalePrice and OverallQual\n",
    "\n",
    "GarageArea and GarageCars\n",
    "\n",
    "TotalBsmtSF and 1stFlrSF\n",
    "\n",
    "GrLiveArea and TotRmsAbvGrd\n",
    "\n",
    "YearBulit and GarageYrBlt\n",
    "\n",
    "We have to create a single feature from them before we use them as predictors.\n"
   ]
  },
  {
   "cell_type": "markdown",
   "metadata": {
    "_cell_guid": "1d211341-26d5-67e9-8995-8c9c45fccdec",
    "_uuid": "80127e915c582ea8b8089a5ae826b7a27052355b"
   },
   "source": [
    "*Pivotal Features*\n",
    "------------------------"
   ]
  },
  {
   "cell_type": "code",
   "execution_count": null,
   "metadata": {
    "_cell_guid": "b82f3410-17f5-412d-79b9-bc97bcb1b40d",
    "_uuid": "8bc71db912b600dc1e13b48deeeb1cab2438b671",
    "collapsed": true
   },
   "outputs": [],
   "source": [
    "houses[['OverallQual','SalePrice']].groupby(['OverallQual'],\n",
    "as_index=False).mean().sort_values(by='OverallQual', ascending=False)"
   ]
  },
  {
   "cell_type": "code",
   "execution_count": null,
   "metadata": {
    "_cell_guid": "c615a4ce-a5c9-fc00-12fa-014f2fa3c720",
    "_uuid": "d1d522cb7d0a57fee62e3b159e0748fa99c752b0",
    "collapsed": true
   },
   "outputs": [],
   "source": [
    "houses[['GarageCars','SalePrice']].groupby(['GarageCars'],\n",
    "as_index=False).mean().sort_values(by='GarageCars', ascending=False)"
   ]
  },
  {
   "cell_type": "code",
   "execution_count": null,
   "metadata": {
    "_cell_guid": "b820fe61-6bfc-b2ef-dff4-9950bf4d72c5",
    "_uuid": "22dea0264b43580360244e1abb213f90e4cce4f3",
    "collapsed": true
   },
   "outputs": [],
   "source": [
    "houses[['Fireplaces','SalePrice']].groupby(['Fireplaces'],\n",
    "as_index=False).mean().sort_values(by='Fireplaces', ascending=False)"
   ]
  },
  {
   "cell_type": "markdown",
   "metadata": {
    "_cell_guid": "5744ee64-4a0c-6683-bc18-5bc89c12db94",
    "_uuid": "3039c85c6086d0cf12471c144d8f27982e466ba2"
   },
   "source": [
    "*Visualising Target variable*\n",
    "-----------------"
   ]
  },
  {
   "cell_type": "markdown",
   "metadata": {
    "_cell_guid": "7054ccbd-e345-994a-565d-2f65b82b9dd0",
    "_uuid": "acfab23a16a6fbfa8a028509825947bed1f53230"
   },
   "source": [
    "*Univariate Analysis*\n",
    "--------------------\n",
    "\n",
    "How 1 single variable is distributed in numeric range.\n",
    "What is statistical summary of it.\n",
    "Is it positively skewed or negatively."
   ]
  },
  {
   "cell_type": "code",
   "execution_count": null,
   "metadata": {
    "_cell_guid": "d9adc736-5981-3ec8-7207-273f05bd86e2",
    "_uuid": "99412d73ff4e29e1475080d73ddd9946970ae41b",
    "collapsed": true
   },
   "outputs": [],
   "source": [
    "sns.distplot(houses['SalePrice'], color=\"r\", kde=False)\n",
    "plt.title(\"Distribution of Sale Price\")\n",
    "plt.ylabel(\"Number of Occurences\")\n",
    "plt.xlabel(\"Sale Price\");"
   ]
  },
  {
   "cell_type": "markdown",
   "metadata": {
    "_cell_guid": "3a6876ef-75a6-70af-c63a-08c300480457",
    "_uuid": "e81b9f6b79166eb5450f77099c0f0b35d2ae381a"
   },
   "source": [
    "Prices are right skewed and  graph shows some peakedness."
   ]
  },
  {
   "cell_type": "code",
   "execution_count": null,
   "metadata": {
    "_cell_guid": "599e4e1e-cc6c-ca33-fa6a-46e6000d785b",
    "_uuid": "33f40370b999d63a7f0ffd9b8cf3ce60276b030c",
    "collapsed": true
   },
   "outputs": [],
   "source": [
    "#skewness  \n",
    "\n",
    "houses['SalePrice'].skew()"
   ]
  },
  {
   "cell_type": "code",
   "execution_count": null,
   "metadata": {
    "_cell_guid": "a51b8dc1-c8f3-ebcc-b530-cdbe8e477951",
    "_uuid": "b337b2cae5b95dc13153eaa12201b62faee3074d",
    "collapsed": true
   },
   "outputs": [],
   "source": [
    "#kurtosis\n",
    "\n",
    "houses['SalePrice'].kurt()\n"
   ]
  },
  {
   "cell_type": "code",
   "execution_count": null,
   "metadata": {
    "_cell_guid": "68d54928-97f4-d874-b823-ed88a1d9cff8",
    "_uuid": "6671c6e0a2ec8078bc7dc1320861c8f8f9e384da",
    "collapsed": true
   },
   "outputs": [],
   "source": [
    "#there are some outliers.lets remove them.\n",
    "upperlimit = np.percentile(houses.SalePrice.values, 99.5)\n",
    "houses['SalePrice'].ix[houses['SalePrice']>upperlimit] = upperlimit\n",
    "\n",
    "plt.scatter(range(houses.shape[0]), houses[\"SalePrice\"].values,color='orange')\n",
    "plt.title(\"Distribution of Sale Price\")\n",
    "plt.xlabel(\"Number of Occurences\")\n",
    "plt.ylabel(\"Sale Price\");"
   ]
  },
  {
   "cell_type": "markdown",
   "metadata": {
    "_cell_guid": "0b87ed94-2de4-c26e-a3b5-5a69ff38a698",
    "_uuid": "ac99bd2595f8af57e4955cd8c64cd285b7bc599e"
   },
   "source": [
    "**Missing Value Imputation**\n",
    "====================\n",
    "\n",
    "\n",
    "Missing values in the training data set can affect prediction or classification of a model negatively.\n",
    "\n",
    "Also some machine learning algorithms can't accept missing data eg. SVM.\n",
    "\n",
    "But filling missing values with mean/median/mode or using another predictive model to predict missing values is also a prediction which may not be 100% accurate, instead you can use models like Decision Trees and Random Forest which handle missing values very well.\n",
    "\n",
    "Some of this part is based on this kernel:\n",
    "https://www.kaggle.com/bisaria/house-prices-advanced-regression-techniques/handling-missing-data"
   ]
  },
  {
   "cell_type": "code",
   "execution_count": null,
   "metadata": {
    "_cell_guid": "526af8fe-b1e3-7b53-5b67-c7cda66e2658",
    "_uuid": "054ee47962de7f347869dda8d1b076120a9729bc",
    "collapsed": true
   },
   "outputs": [],
   "source": [
    "#lets see if there are any columns with missing values \n",
    "null_columns=houses.columns[houses.isnull().any()]\n",
    "houses[null_columns].isnull().sum()"
   ]
  },
  {
   "cell_type": "code",
   "execution_count": null,
   "metadata": {
    "_cell_guid": "8dc6df99-93b7-9a0d-226b-d829ad168a34",
    "_uuid": "1bd29fa35bfd485d9f3d4ce9f5f317da2b585ad1",
    "collapsed": true
   },
   "outputs": [],
   "source": [
    "labels = []\n",
    "values = []\n",
    "for col in null_columns:\n",
    "    labels.append(col)\n",
    "    values.append(houses[col].isnull().sum())\n",
    "ind = np.arange(len(labels))\n",
    "width = 0.9\n",
    "fig, ax = plt.subplots(figsize=(12,50))\n",
    "rects = ax.barh(ind, np.array(values), color='violet')\n",
    "ax.set_yticks(ind+((width)/2.))\n",
    "ax.set_yticklabels(labels, rotation='horizontal')\n",
    "ax.set_xlabel(\"Count of missing values\")\n",
    "ax.set_ylabel(\"Column Names\")\n",
    "ax.set_title(\"Variables with missing values\");"
   ]
  },
  {
   "cell_type": "markdown",
   "metadata": {
    "_cell_guid": "b30def9c-129b-fcc1-887c-bcef8f1f6132",
    "_uuid": "8ae77f114d29feba82cfb48b4420f3ef3c71ae63"
   },
   "source": [
    "*Multivariate Analysis*\n",
    "--------------------\n",
    "\n",
    "When we understand how 3 or more variables behave according to each other."
   ]
  },
  {
   "cell_type": "markdown",
   "metadata": {
    "_cell_guid": "7a053c65-694b-be3d-4bab-f9355c0aa6e2",
    "_uuid": "927c4cb6c53cfdbc2b7fd98bffa014e135034880"
   },
   "source": [
    "*LotFrontage*\n",
    "-------------\n",
    "\n",
    "We can see if there is some correlation between LotArea and LotFrontage"
   ]
  },
  {
   "cell_type": "code",
   "execution_count": null,
   "metadata": {
    "_cell_guid": "36050698-f36a-9b68-2e1a-244ea0fd7fcd",
    "_uuid": "00187041e1a1515b191f6abd311f38ad18cac0a8",
    "collapsed": true
   },
   "outputs": [],
   "source": [
    "houses['LotFrontage'].corr(houses['LotArea'])"
   ]
  },
  {
   "cell_type": "markdown",
   "metadata": {
    "_cell_guid": "5132e512-24ea-cb37-13b5-fdf5c69103b1",
    "_uuid": "043970250249f6c7ad323d1262b9e214185ebf23"
   },
   "source": [
    "This is not great, we will try some polynomial expressions like squareroot "
   ]
  },
  {
   "cell_type": "code",
   "execution_count": null,
   "metadata": {
    "_cell_guid": "5f3ac7bd-c835-3987-e3ec-30e17791eb39",
    "_uuid": "ebb04d7956cc93ea0326201d7b5ec4c42c40f52e",
    "collapsed": true
   },
   "outputs": [],
   "source": [
    "houses['SqrtLotArea']=np.sqrt(houses['LotArea'])\n",
    "houses['LotFrontage'].corr(houses['SqrtLotArea'])"
   ]
  },
  {
   "cell_type": "markdown",
   "metadata": {
    "_cell_guid": "7f1fe1c2-337c-61c6-8ce9-881538fa0d35",
    "_uuid": "70db909a8f3bf7ed5f357ac40636aad16c391982"
   },
   "source": [
    "0.60 looks good to go."
   ]
  },
  {
   "cell_type": "code",
   "execution_count": null,
   "metadata": {
    "_cell_guid": "f9e195cf-bda8-f23f-deab-35674f5445c6",
    "_uuid": "d8cae2674112b0ac462aa7d6e369850cd412459d",
    "collapsed": true
   },
   "outputs": [],
   "source": [
    "sns.jointplot(houses['LotFrontage'],houses['SqrtLotArea'],color='gold');"
   ]
  },
  {
   "cell_type": "code",
   "execution_count": null,
   "metadata": {
    "_cell_guid": "ef3f5e6c-bc27-007a-08f3-8d723cd3faef",
    "_uuid": "2cb0791a436f8827b8601b195b7b473944fda1d0",
    "collapsed": true
   },
   "outputs": [],
   "source": [
    "filter = houses['LotFrontage'].isnull()\n",
    "houses.LotFrontage[filter]=houses.SqrtLotArea[filter]"
   ]
  },
  {
   "cell_type": "markdown",
   "metadata": {
    "_cell_guid": "aeb0c00a-5cf2-fd21-d4b2-ecced63eb694",
    "_uuid": "9cce0171300c965ff7faf6da5c7cda859975bb1d"
   },
   "source": [
    "*MasVnrType and MasVnrArea*\n",
    "==========================="
   ]
  },
  {
   "cell_type": "code",
   "execution_count": null,
   "metadata": {
    "_cell_guid": "09611281-eba3-ba8d-1d84-66fd7f26ccad",
    "_uuid": "f02b9ee6c96bb02719d77e044885600829ccf747",
    "collapsed": true
   },
   "outputs": [],
   "source": [
    "plt.scatter(houses[\"MasVnrArea\"],houses[\"SalePrice\"])\n",
    "plt.title(\"MasVnrArea Vs SalePrice \")\n",
    "plt.ylabel(\"SalePrice\")\n",
    "plt.xlabel(\"Mas Vnr Area in sq feet\");"
   ]
  },
  {
   "cell_type": "code",
   "execution_count": null,
   "metadata": {
    "_cell_guid": "12005d25-b3c9-4ca3-6f1f-cbc59ca555e3",
    "_uuid": "a6553a70ae78b2565a98f5cef0143d72f667d467",
    "collapsed": true
   },
   "outputs": [],
   "source": [
    "sns.boxplot(\"MasVnrType\",\"SalePrice\",data=houses);"
   ]
  },
  {
   "cell_type": "code",
   "execution_count": null,
   "metadata": {
    "_cell_guid": "8d583cb6-32cc-a71e-46b1-c4994f1d5060",
    "_uuid": "792e250dbd4d9ee28953e31dee6f078dd10f1157",
    "collapsed": true
   },
   "outputs": [],
   "source": [
    "houses[\"MasVnrType\"] = houses[\"MasVnrType\"].fillna('None')\n",
    "houses[\"MasVnrArea\"] = houses[\"MasVnrArea\"].fillna(0.0)"
   ]
  }
 ],
 "metadata": {
  "_change_revision": 0,
  "_is_fork": false,
  "kernelspec": {
   "display_name": "Python 3 (ipykernel)",
   "language": "python",
   "name": "python3"
  },
  "language_info": {
   "codemirror_mode": {
    "name": "ipython",
    "version": 3
   },
   "file_extension": ".py",
   "mimetype": "text/x-python",
   "name": "python",
   "nbconvert_exporter": "python",
   "pygments_lexer": "ipython3",
   "version": "3.9.12"
  }
 },
 "nbformat": 4,
 "nbformat_minor": 1
}
